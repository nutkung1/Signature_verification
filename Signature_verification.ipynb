{
  "nbformat": 4,
  "nbformat_minor": 0,
  "metadata": {
    "colab": {
      "name": "Signature verification.ipynb",
      "provenance": [],
      "collapsed_sections": []
    },
    "kernelspec": {
      "name": "python3",
      "display_name": "Python 3"
    },
    "language_info": {
      "name": "python"
    },
    "accelerator": "GPU"
  },
  "cells": [
    {
      "cell_type": "markdown",
      "source": [
        "Warning Run all cell"
      ],
      "metadata": {
        "id": "dl4H1_vqwi8L"
      }
    },
    {
      "cell_type": "markdown",
      "source": [
        "Import dataset and library from my github"
      ],
      "metadata": {
        "id": "s3q9oITqiWwq"
      }
    },
    {
      "cell_type": "code",
      "source": [
        "!git clone https://github.com/nutkung1/Signature-dataset.git"
      ],
      "metadata": {
        "colab": {
          "base_uri": "https://localhost:8080/"
        },
        "id": "S0HS6mFIwGwm",
        "outputId": "a63cb855-4b72-4578-a24d-aef0a51e9a3e"
      },
      "execution_count": null,
      "outputs": [
        {
          "output_type": "stream",
          "name": "stdout",
          "text": [
            "fatal: destination path 'Signature-dataset' already exists and is not an empty directory.\n"
          ]
        }
      ]
    },
    {
      "cell_type": "code",
      "metadata": {
        "id": "zYGOJzx5jKwI"
      },
      "source": [
        "import cv2\n",
        "import os\n",
        "import glob\n",
        "import numpy as np\n",
        "import random"
      ],
      "execution_count": null,
      "outputs": []
    },
    {
      "cell_type": "code",
      "metadata": {
        "colab": {
          "base_uri": "https://localhost:8080/",
          "height": 328
        },
        "id": "JS6oM3OijQVG",
        "outputId": "ddc72fc5-79fb-4f44-a168-55086a2cfd51"
      },
      "source": [
        "from google.colab import drive\n",
        "drive.mount('/content/drive')"
      ],
      "execution_count": null,
      "outputs": [
        {
          "output_type": "error",
          "ename": "MessageError",
          "evalue": "ignored",
          "traceback": [
            "\u001b[0;31m---------------------------------------------------------------------------\u001b[0m",
            "\u001b[0;31mMessageError\u001b[0m                              Traceback (most recent call last)",
            "\u001b[0;32m<ipython-input-1-d5df0069828e>\u001b[0m in \u001b[0;36m<module>\u001b[0;34m()\u001b[0m\n\u001b[1;32m      1\u001b[0m \u001b[0;32mfrom\u001b[0m \u001b[0mgoogle\u001b[0m\u001b[0;34m.\u001b[0m\u001b[0mcolab\u001b[0m \u001b[0;32mimport\u001b[0m \u001b[0mdrive\u001b[0m\u001b[0;34m\u001b[0m\u001b[0;34m\u001b[0m\u001b[0m\n\u001b[0;32m----> 2\u001b[0;31m \u001b[0mdrive\u001b[0m\u001b[0;34m.\u001b[0m\u001b[0mmount\u001b[0m\u001b[0;34m(\u001b[0m\u001b[0;34m'/content/drive'\u001b[0m\u001b[0;34m)\u001b[0m\u001b[0;34m\u001b[0m\u001b[0;34m\u001b[0m\u001b[0m\n\u001b[0m",
            "\u001b[0;32m/usr/local/lib/python3.7/dist-packages/google/colab/drive.py\u001b[0m in \u001b[0;36mmount\u001b[0;34m(mountpoint, force_remount, timeout_ms, use_metadata_server)\u001b[0m\n\u001b[1;32m    111\u001b[0m       \u001b[0mtimeout_ms\u001b[0m\u001b[0;34m=\u001b[0m\u001b[0mtimeout_ms\u001b[0m\u001b[0;34m,\u001b[0m\u001b[0;34m\u001b[0m\u001b[0;34m\u001b[0m\u001b[0m\n\u001b[1;32m    112\u001b[0m       \u001b[0muse_metadata_server\u001b[0m\u001b[0;34m=\u001b[0m\u001b[0muse_metadata_server\u001b[0m\u001b[0;34m,\u001b[0m\u001b[0;34m\u001b[0m\u001b[0;34m\u001b[0m\u001b[0m\n\u001b[0;32m--> 113\u001b[0;31m       ephemeral=ephemeral)\n\u001b[0m\u001b[1;32m    114\u001b[0m \u001b[0;34m\u001b[0m\u001b[0m\n\u001b[1;32m    115\u001b[0m \u001b[0;34m\u001b[0m\u001b[0m\n",
            "\u001b[0;32m/usr/local/lib/python3.7/dist-packages/google/colab/drive.py\u001b[0m in \u001b[0;36m_mount\u001b[0;34m(mountpoint, force_remount, timeout_ms, use_metadata_server, ephemeral)\u001b[0m\n\u001b[1;32m    134\u001b[0m   \u001b[0;32mif\u001b[0m \u001b[0mephemeral\u001b[0m\u001b[0;34m:\u001b[0m\u001b[0;34m\u001b[0m\u001b[0;34m\u001b[0m\u001b[0m\n\u001b[1;32m    135\u001b[0m     _message.blocking_request(\n\u001b[0;32m--> 136\u001b[0;31m         'request_auth', request={'authType': 'dfs_ephemeral'}, timeout_sec=None)\n\u001b[0m\u001b[1;32m    137\u001b[0m \u001b[0;34m\u001b[0m\u001b[0m\n\u001b[1;32m    138\u001b[0m   \u001b[0mmountpoint\u001b[0m \u001b[0;34m=\u001b[0m \u001b[0m_os\u001b[0m\u001b[0;34m.\u001b[0m\u001b[0mpath\u001b[0m\u001b[0;34m.\u001b[0m\u001b[0mexpanduser\u001b[0m\u001b[0;34m(\u001b[0m\u001b[0mmountpoint\u001b[0m\u001b[0;34m)\u001b[0m\u001b[0;34m\u001b[0m\u001b[0;34m\u001b[0m\u001b[0m\n",
            "\u001b[0;32m/usr/local/lib/python3.7/dist-packages/google/colab/_message.py\u001b[0m in \u001b[0;36mblocking_request\u001b[0;34m(request_type, request, timeout_sec, parent)\u001b[0m\n\u001b[1;32m    173\u001b[0m   request_id = send_request(\n\u001b[1;32m    174\u001b[0m       request_type, request, parent=parent, expect_reply=True)\n\u001b[0;32m--> 175\u001b[0;31m   \u001b[0;32mreturn\u001b[0m \u001b[0mread_reply_from_input\u001b[0m\u001b[0;34m(\u001b[0m\u001b[0mrequest_id\u001b[0m\u001b[0;34m,\u001b[0m \u001b[0mtimeout_sec\u001b[0m\u001b[0;34m)\u001b[0m\u001b[0;34m\u001b[0m\u001b[0;34m\u001b[0m\u001b[0m\n\u001b[0m",
            "\u001b[0;32m/usr/local/lib/python3.7/dist-packages/google/colab/_message.py\u001b[0m in \u001b[0;36mread_reply_from_input\u001b[0;34m(message_id, timeout_sec)\u001b[0m\n\u001b[1;32m    104\u001b[0m         reply.get('colab_msg_id') == message_id):\n\u001b[1;32m    105\u001b[0m       \u001b[0;32mif\u001b[0m \u001b[0;34m'error'\u001b[0m \u001b[0;32min\u001b[0m \u001b[0mreply\u001b[0m\u001b[0;34m:\u001b[0m\u001b[0;34m\u001b[0m\u001b[0;34m\u001b[0m\u001b[0m\n\u001b[0;32m--> 106\u001b[0;31m         \u001b[0;32mraise\u001b[0m \u001b[0mMessageError\u001b[0m\u001b[0;34m(\u001b[0m\u001b[0mreply\u001b[0m\u001b[0;34m[\u001b[0m\u001b[0;34m'error'\u001b[0m\u001b[0;34m]\u001b[0m\u001b[0;34m)\u001b[0m\u001b[0;34m\u001b[0m\u001b[0;34m\u001b[0m\u001b[0m\n\u001b[0m\u001b[1;32m    107\u001b[0m       \u001b[0;32mreturn\u001b[0m \u001b[0mreply\u001b[0m\u001b[0;34m.\u001b[0m\u001b[0mget\u001b[0m\u001b[0;34m(\u001b[0m\u001b[0;34m'data'\u001b[0m\u001b[0;34m,\u001b[0m \u001b[0;32mNone\u001b[0m\u001b[0;34m)\u001b[0m\u001b[0;34m\u001b[0m\u001b[0;34m\u001b[0m\u001b[0m\n\u001b[1;32m    108\u001b[0m \u001b[0;34m\u001b[0m\u001b[0m\n",
            "\u001b[0;31mMessageError\u001b[0m: Error: credential propagation was unsuccessful"
          ]
        }
      ]
    },
    {
      "cell_type": "markdown",
      "metadata": {
        "id": "qjdGWH9WjeXk"
      },
      "source": [
        "New Sec and run all cell"
      ]
    },
    {
      "cell_type": "code",
      "metadata": {
        "id": "C80oGkdTjiFN"
      },
      "source": [
        "def prepare(input):\n",
        "    # preprocessing the image input\n",
        "    clean = cv2.fastNlMeansDenoising(input) #denoise the image\n",
        "    ret, tresh = cv2.threshold(clean, 127, 1, cv2.THRESH_BINARY_INV)  #apply threshholding to pixels\n",
        "    img = crop(tresh)   #crop the image\n",
        "\n",
        "    # 40x10 image as a flatten array\n",
        "    flatten_img = cv2.resize(img, (40, 10), interpolation=cv2.INTER_AREA).flatten()\n",
        "\n",
        "    # resize to 400x100\n",
        "    resized = cv2.resize(img, (400, 100), interpolation=cv2.INTER_AREA)\n",
        "    columns = np.sum(resized, axis=0)  # sum of all columns\n",
        "    lines = np.sum(resized, axis=1)  # sum of all lines\n",
        "\n",
        "    h, w = img.shape\n",
        "    aspect = w / h\n",
        "\n",
        "    return [*flatten_img, *columns, *lines, aspect]\n",
        "\n",
        "\n",
        "def crop(img):\n",
        "    points = cv2.findNonZero(img)\n",
        "    x, y, w, h = cv2.boundingRect(points)\n",
        "    return img[y: y+h, x: x+w]"
      ],
      "execution_count": null,
      "outputs": []
    },
    {
      "cell_type": "code",
      "metadata": {
        "id": "zYKl772KjtIw"
      },
      "source": [
        "class NeuralNetwork():\n",
        "\n",
        "    def __init__(self, sizes):\n",
        "        self.num_layers = len(sizes)\n",
        "        self.sizes = sizes\n",
        "        self.biases = [np.random.randn(y,1) for y in sizes[1:]]\n",
        "        self.weights = [np.random.randn(y,x) for x,y in zip(sizes[:-1],sizes[1:])]\n",
        "\n",
        "    def feedforward(self, a):\n",
        "        for b,w in zip(self.biases, self.weights):\n",
        "            a = sigmoid(np.dot(w, a) + b)\n",
        "        return a\n",
        "\n",
        "    def separate_batches(self, training_data, batch_size):\n",
        "        random.shuffle(training_data)\n",
        "        n = len(training_data)\n",
        "        return [training_data[i:i + batch_size] for i in range(0, n, batch_size)]\n",
        "\n",
        "    def update_batches(self, batches, alpha):\n",
        "        for batch in batches:\n",
        "            nabla_b = [np.zeros(b.shape) for b in self.biases]\n",
        "            nabla_w = [np.zeros(w.shape) for w in self.weights]\n",
        "            m = len(batch)\n",
        "            for x, y in batch:\n",
        "                delta_b, delta_w = self.backpropagation(x, y)\n",
        "                nabla_b = [nb + dnb for nb, dnb in zip(nabla_b, delta_b)]\n",
        "                nabla_w = [nw + dnw for nw, dnw in zip(nabla_w, delta_w)]\n",
        "\n",
        "            self.weights = [w - (alpha / m) * nw for w, nw in zip(self.weights, nabla_w)]\n",
        "            self.biases = [b - (alpha / m) * nb for b, nb in zip(self.biases, nabla_b)]\n",
        "\n",
        "    def backpropagation(self, x, y):\n",
        "        nabla_b = [np.zeros(b.shape) for b in self.biases]\n",
        "        nabla_w = [np.zeros(w.shape) for w in self.weights]\n",
        "\n",
        "        activation = x\n",
        "        activations = [x]\n",
        "        zs = []\n",
        "        for b, w in zip(self.biases, self.weights):\n",
        "            # layer-bound b and w\n",
        "            z = np.dot(w, activation)+b\n",
        "            zs.append(z)\n",
        "            activation = sigmoid(z)\n",
        "            activations.append(activation)\n",
        "        # backward pass\n",
        "        delta = self.cost_derivative(activations[-1], y) * \\\n",
        "            sigmoid_prime(zs[-1])\n",
        "        nabla_b[-1] = delta\n",
        "        nabla_w[-1] = np.dot(delta, activations[-2].transpose())\n",
        "\n",
        "        for l in range(2, self.num_layers):\n",
        "            z = zs[-l]\n",
        "            sp = sigmoid_prime(z)\n",
        "            delta = np.dot(self.weights[-l+1].transpose(), delta) * sp\n",
        "            nabla_b[-l] = delta\n",
        "            nabla_w[-l] = np.dot(delta, activations[-l-1].transpose())\n",
        "        return (nabla_b, nabla_w)\n",
        "\n",
        "    def sgd(self, training_data, epochs, batch_size, alpha, test_data):\n",
        "        n_test = len(test_data)\n",
        "        error=0\n",
        "\n",
        "        for epoch in range(epochs):\n",
        "            batches = self.separate_batches(training_data, batch_size)\n",
        "            self.update_batches(batches, alpha)\n",
        "            genuine=self.evaluate(test_data)\n",
        "            error = error+abs(genuine-1)\n",
        "            print(\"Epoch {0}: {1} / {2}\".format(epoch, genuine, n_test))\n",
        "        error=error/epochs\n",
        "        print(\"Result deviation: {0}%\".format(error*100/1))\n",
        "\n",
        "    def evaluate(self, test_data):\n",
        "      for (x,y) in test_data:\n",
        "        test_results = [(np.argmax(self.feedforward(x)), y)\n",
        "                        for (x, y) in test_data]\n",
        "        return sum(int(x == y) for (x, y) in test_results)\n",
        "\n",
        "    def cost_derivative(self, output_activations, y):\n",
        "        return output_activations - y\n",
        "\n",
        "\n",
        "def sigmoid(z):\n",
        "    return 1.0 / (1.0 + np.exp(-z))\n",
        "\n",
        "\n",
        "def sigmoid_prime(z):\n",
        "    return sigmoid(z) * (1-sigmoid(z))"
      ],
      "execution_count": null,
      "outputs": []
    },
    {
      "cell_type": "markdown",
      "source": [
        "copy dataset path and paste it"
      ],
      "metadata": {
        "id": "pBBJ5JxEwsf_"
      }
    },
    {
      "cell_type": "code",
      "metadata": {
        "id": "43dEs3W2j2RI"
      },
      "source": [
        "def main():\n",
        "    print('OpenCV version {} '.format(cv2.__version__))\n",
        "    training_data = []\n",
        "    for filename in glob.iglob('/content/Signature-Verification/training/021/genuine-12.png', recursive=True):\n",
        "        img = cv2.imread(filename, 0)\n",
        "        if img is not None:\n",
        "            data = np.array(prepare(img))\n",
        "            data = np.reshape(data, (901, 1))\n",
        "            result = [[0], [1]] if \"genuine\" in filename else [[1], [0]]\n",
        "            result = np.array(result)\n",
        "            result = np.reshape(result, (2,1))\n",
        "            training_data.append((data, result))\n",
        "    test_data = []\n",
        "    for filename in glob.iglob('/content/Signature-Verification/testing/029/forged-07.png', recursive=True):\n",
        "        img = cv2.imread(filename, 0)\n",
        "        if img is not None:\n",
        "            data = np.array(prepare(img))\n",
        "            data = np.reshape(data, (901, 1))\n",
        "            result = 1 if \"genuine\" in filename else 0\n",
        "            test_data.append((data, result))\n",
        "    net = NeuralNetwork([901, 500, 500, 2])\n",
        "    net.sgd(training_data, 10, 50, 0.01, test_data)"
      ],
      "execution_count": null,
      "outputs": []
    },
    {
      "cell_type": "code",
      "metadata": {
        "colab": {
          "base_uri": "https://localhost:8080/"
        },
        "id": "6xsIC5GmkyJC",
        "outputId": "e5a1ece0-ba1a-43ad-d2ec-7a7b9c1aa654"
      },
      "source": [
        "main()"
      ],
      "execution_count": null,
      "outputs": [
        {
          "output_type": "stream",
          "name": "stdout",
          "text": [
            "OpenCV version 4.1.2 \n",
            "Epoch 0: 0 / 1\n",
            "Epoch 1: 0 / 1\n",
            "Epoch 2: 0 / 1\n",
            "Epoch 3: 0 / 1\n",
            "Epoch 4: 0 / 1\n",
            "Epoch 5: 0 / 1\n",
            "Epoch 6: 0 / 1\n",
            "Epoch 7: 0 / 1\n",
            "Epoch 8: 0 / 1\n",
            "Epoch 9: 0 / 1\n",
            "Result deviation: 96.50000000000001%\n"
          ]
        }
      ]
    }
  ]
}